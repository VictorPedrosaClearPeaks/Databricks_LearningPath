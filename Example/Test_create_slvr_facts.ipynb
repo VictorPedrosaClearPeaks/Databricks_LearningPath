{
 "cells": [
  {
   "cell_type": "code",
   "execution_count": 0,
   "metadata": {
    "application/vnd.databricks.v1+cell": {
     "cellMetadata": {
      "byteLimit": 2048000,
      "implicitDf": true,
      "rowLimit": 10000
     },
     "inputWidgets": {},
     "nuid": "8a09d7c9-0f5e-4c20-ac44-ea445c86ad75",
     "showTitle": false,
     "tableResultSettingsMap": {},
     "title": ""
    }
   },
   "outputs": [],
   "source": [
    "%sql\n",
    "CREATE SCHEMA IF NOT EXISTS `silver_layer`;\n",
    "\n",
    "DROP TABLE IF EXISTS silver_layer.slvr_request_stage;\n",
    "\n",
    "CREATE TABLE IF NOT EXISTS silver_layer.slvr_request_stage(\n",
    "integration_id STRING,\n",
    "universal_request_pk STRING,\n",
    "update_pk INT,\n",
    "stage_key LONG,\n",
    "old_stage_key LONG, \n",
    "update_time_ts TIMESTAMP,\n",
    "user_name STRING,\n",
    "request_number STRING,\n",
    "created_at_ts TIMESTAMP,\n",
    "modified_at_ts TIMESTAMP,\n",
    "data_source STRING\n",
    ");\n",
    "\n",
    "DROP TABLE IF EXISTS silver_layer.slvr_request_comment;\n",
    "\n",
    "CREATE TABLE IF NOT EXISTS silver_layer.slvr_request_comment(\n",
    "integration_id STRING,\n",
    "universal_request_pk STRING,\n",
    "request_comment_id INT,\n",
    "created_date_ts TIMESTAMP,\n",
    "owner STRING, \n",
    "comment STRING,\n",
    "user_name STRING,\n",
    "created_at_ts TIMESTAMP,\n",
    "modified_at_ts TIMESTAMP,\n",
    "data_source STRING\n",
    "); \n",
    "\n",
    "DROP TABLE IF EXISTS silver_layer.slvr_fact_service_request;\n",
    "\n",
    "CREATE TABLE IF NOT EXISTS silver_layer.slvr_fact_service_request(\n",
    "integration_id STRING,\n",
    "universal_request_pk STRING,\n",
    "created_date_ts TIMESTAMP,\n",
    "entity_key LONG,\n",
    "vertical_key LONG,\n",
    "service_key LONG,\n",
    "created_at_ts TIMESTAMP,\n",
    "modified_at_ts TIMESTAMP,\n",
    "data_source STRING\n",
    "); \n",
    "\n"
   ]
  },
  {
   "cell_type": "code",
   "execution_count": 0,
   "metadata": {
    "application/vnd.databricks.v1+cell": {
     "cellMetadata": {
      "byteLimit": 2048000,
      "implicitDf": true,
      "rowLimit": 10000
     },
     "inputWidgets": {},
     "nuid": "9e30bb0d-627f-4ec6-b4f9-f82d522293f9",
     "showTitle": false,
     "tableResultSettingsMap": {},
     "title": ""
    }
   },
   "outputs": [],
   "source": [
    "%sql\n",
    "DROP TABLE IF EXISTS silver_layer.slvr_fact_service_request;\n",
    "\n",
    "CREATE TABLE IF NOT EXISTS silver_layer.slvr_fact_service_request(\n",
    "integration_id STRING,\n",
    "universal_request_pk STRING,\n",
    "created_date_ts TIMESTAMP,\n",
    "entity_key LONG,\n",
    "vertical_key LONG,\n",
    "service_key LONG,\n",
    "created_at_ts TIMESTAMP,\n",
    "modified_at_ts TIMESTAMP,\n",
    "data_source STRING\n",
    "); "
   ]
  }
 ],
 "metadata": {
  "application/vnd.databricks.v1+notebook": {
   "computePreferences": null,
   "dashboards": [],
   "environmentMetadata": {
    "base_environment": "",
    "client": "1"
   },
   "language": "python",
   "notebookMetadata": {
    "mostRecentlyExecutedCommandWithImplicitDF": {
     "commandId": 5515733909028913,
     "dataframes": [
      "_sqldf"
     ]
    },
    "pythonIndentUnit": 4
   },
   "notebookName": "Test_create_slvr_facts",
   "widgets": {}
  },
  "language_info": {
   "name": "python"
  }
 },
 "nbformat": 4,
 "nbformat_minor": 0
}
