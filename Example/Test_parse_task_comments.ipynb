{
 "cells": [
  {
   "cell_type": "code",
   "execution_count": 0,
   "metadata": {
    "application/vnd.databricks.v1+cell": {
     "cellMetadata": {
      "byteLimit": 2048000,
      "implicitDf": true,
      "rowLimit": 10000
     },
     "inputWidgets": {},
     "nuid": "8a09d7c9-0f5e-4c20-ac44-ea445c86ad75",
     "showTitle": false,
     "tableResultSettingsMap": {},
     "title": ""
    }
   },
   "outputs": [],
   "source": [
    "%sql\n",
    "SELECT * FROM bronze_layer.task_full;\n",
    "\n",
    "DROP TABLE IF EXISTS bronze_layer.request_comment;\n"
   ]
  },
  {
   "cell_type": "code",
   "execution_count": 0,
   "metadata": {
    "application/vnd.databricks.v1+cell": {
     "cellMetadata": {
      "byteLimit": 2048000,
      "rowLimit": 10000
     },
     "inputWidgets": {},
     "nuid": "12d22ba3-9bdd-487b-ae42-f2c10a39faa5",
     "showTitle": false,
     "tableResultSettingsMap": {},
     "title": ""
    }
   },
   "outputs": [],
   "source": [
    "%python\n",
    "import pandas as pd\n",
    "from pyspark.sql import SparkSession\n",
    "\n",
    "# Nombre de la tabla en Databricks\n",
    "table_name = \"bronze_layer.task_full\"\n",
    "\n",
    "# Leer la tabla como un Spark DataFrame\n",
    "spark_df = spark.table(table_name)\n",
    "\n",
    "# Convertir el Spark DataFrame en un DataFrame de pandas\n",
    "df = spark_df.toPandas()\n",
    "\n",
    "# Mostrar las primeras filas del DataFrame de pandas\n",
    "\n",
    "df = df.loc[:, ['universal_request', 'comments']]\n",
    "df = df.dropna(subset=['comments'])\n",
    "\n",
    "df_separated_comments = df['comments'].str.split(r'(?=\\d{4}-\\d{2}-\\d{2} \\d{2}:\\d{2}:\\d{2} - )',expand=True).stack().reset_index(drop=True)\n",
    "\n",
    "df_separated_comments = pd.DataFrame(df_separated_comments, columns=['comments'])\n",
    "\n",
    "df_result = pd.concat([df['universal_request'].repeat(df['comments'].str.split(r'(?=\\d{4}-\\d{2}-\\d{2} \\d{2}:\\d{2}:\\d{2} - )').apply(len)).reset_index(drop=True), df_separated_comments],axis=1)\n",
    "df_result = df_result[df_result['comments'].apply(lambda x: x.strip().lower() != '')]\n",
    "\n",
    "df_separated_columns = df_result['comments'].str.split(' - ', expand=True).reset_index(drop=True)\n",
    "df_separated_columns = df_separated_columns.iloc[:, :2]\n",
    "df_separated_columns.columns=['timestamp','rest']\n",
    "\n",
    "df_result2 = pd.concat([df_result.reset_index(drop=True), df_separated_columns],axis=1)\n",
    "\n",
    "df_result2[['owner', 'comment']] = df_result2['rest'].str.split(r'\\(Additional Comments\\)', expand=True)\n",
    "\n",
    "df_result2 = df_result2.sort_values(by=['universal_request', 'timestamp']).reset_index(drop=True)\n",
    "\n",
    "df_result2['request_comment_id'] = df_result2.groupby('universal_request').cumcount() + 1\n",
    "\n",
    "df_clean = df_result2[['universal_request','request_comment_id','timestamp','owner','comment']]\n",
    "df_clean['comment'] = df_clean['comment'].str.strip()\n",
    "\n",
    "spark_df = SparkSession.builder.getOrCreate().createDataFrame(df_clean)\n",
    "\n",
    "# Nombre de la tabla donde se guardará\n",
    "table_name = \"bronze_layer.request_comment\"\n",
    "\n",
    "# Guardar el DataFrame de Spark en la tabla\n",
    "spark_df.write.option(\"mergeSchema\", \"true\").mode(\"overwrite\").saveAsTable(table_name)"
   ]
  },
  {
   "cell_type": "code",
   "execution_count": 0,
   "metadata": {
    "application/vnd.databricks.v1+cell": {
     "cellMetadata": {
      "byteLimit": 2048000,
      "implicitDf": true,
      "rowLimit": 10000
     },
     "inputWidgets": {},
     "nuid": "78a869bf-516f-490f-94fd-b54cf37da40d",
     "showTitle": false,
     "tableResultSettingsMap": {},
     "title": ""
    }
   },
   "outputs": [],
   "source": [
    "%sql \n",
    "SELECT * FROM bronze_layer.request_comment;\n",
    "\n",
    "CREATE TABLE IF NOT EXISTS bronze_layer.brnz_request_comment AS\n",
    "SELECT AX.*, \n",
    "current_timestamp() AS created_at_ts, \n",
    "current_timestamp() AS modified_at_ts, \n",
    "'CSV' AS datasource, \n",
    "'task_full.csv' AS input_file_name\n",
    "FROM bronze_layer.request_comment AX;\n",
    "\n",
    "SELECT * FROM bronze_layer.brnz_request_comment;"
   ]
  }
 ],
 "metadata": {
  "application/vnd.databricks.v1+notebook": {
   "computePreferences": null,
   "dashboards": [],
   "environmentMetadata": {
    "base_environment": "",
    "client": "1"
   },
   "language": "python",
   "notebookMetadata": {
    "mostRecentlyExecutedCommandWithImplicitDF": {
     "commandId": 8567775316092026,
     "dataframes": [
      "_sqldf"
     ]
    },
    "pythonIndentUnit": 4
   },
   "notebookName": "Test_parse_task_comments",
   "widgets": {}
  },
  "language_info": {
   "name": "python"
  }
 },
 "nbformat": 4,
 "nbformat_minor": 0
}
