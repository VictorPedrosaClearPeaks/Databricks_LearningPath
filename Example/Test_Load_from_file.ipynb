{
 "cells": [
  {
   "cell_type": "code",
   "execution_count": 0,
   "metadata": {
    "application/vnd.databricks.v1+cell": {
     "cellMetadata": {
      "byteLimit": 2048000,
      "implicitDf": true,
      "rowLimit": 10000
     },
     "inputWidgets": {},
     "nuid": "8a09d7c9-0f5e-4c20-ac44-ea445c86ad75",
     "showTitle": false,
     "tableResultSettingsMap": {},
     "title": ""
    }
   },
   "outputs": [],
   "source": [
    "%sql\n",
    "\n",
    "DROP TABLE IF EXISTS bronze_layer.brnz_csat_raw;\n",
    "CREATE TABLE IF NOT EXISTS bronze_layer.brnz_csat_raw (\n",
    "    task_id STRING,\n",
    "    ref_universal_request STRING,\n",
    "    instance STRING,\n",
    "    source_id STRING,\n",
    "    category STRING,\n",
    "    metric STRING,\n",
    "    user STRING,\n",
    "    actual_value INT,\n",
    "    task_id_number STRING,\n",
    "    sys_created_on TIMESTAMP,\n",
    "    sys_updated_on TIMESTAMP\n",
    ");\n"
   ]
  },
  {
   "cell_type": "code",
   "execution_count": 0,
   "metadata": {
    "application/vnd.databricks.v1+cell": {
     "cellMetadata": {
      "byteLimit": 2048000,
      "implicitDf": true,
      "rowLimit": 10000
     },
     "inputWidgets": {},
     "nuid": "9ae52094-8c91-437f-8b30-0bc4c2b932a1",
     "showTitle": false,
     "tableResultSettingsMap": {},
     "title": ""
    }
   },
   "outputs": [],
   "source": [
    "%sql\n",
    "\n",
    "DELETE FROM bronze_layer.brnz_csat_raw;\n",
    "\n",
    "COPY INTO bronze_layer.brnz_csat_raw\n",
    "FROM 'dbfs:/Volumes/main/bronze_layer/input_files/CSAT Full Load_edited.csv'\n",
    "FILEFORMAT = CSV\n",
    "FORMAT_OPTIONS (\n",
    "    'header' = 'true',\n",
    "    'inferSchema' = 'true'\n",
    ")\n",
    "COPY_OPTIONS ('mergeSchema' = 'true');\n",
    "\n",
    "SELECT * FROM bronze_layer.brnz_csat_raw;"
   ]
  },
  {
   "cell_type": "code",
   "execution_count": 0,
   "metadata": {
    "application/vnd.databricks.v1+cell": {
     "cellMetadata": {
      "byteLimit": 2048000,
      "rowLimit": 10000
     },
     "inputWidgets": {},
     "nuid": "d04ff27f-e798-47fa-8ca7-133e07b56e1a",
     "showTitle": false,
     "tableResultSettingsMap": {},
     "title": ""
    }
   },
   "outputs": [],
   "source": [
    "%python\n",
    "# Read the CSV file\n",
    "df = spark.read.format(\"csv\").option(\"header\", \"true\").option(\"inferSchema\", \"true\").load(\"dbfs:/Volumes/main/bronze_layer/input_files/CSAT Full Load_edited.csv\")"
   ]
  }
 ],
 "metadata": {
  "application/vnd.databricks.v1+notebook": {
   "computePreferences": null,
   "dashboards": [],
   "environmentMetadata": {
    "base_environment": "",
    "client": "1"
   },
   "language": "python",
   "notebookMetadata": {
    "mostRecentlyExecutedCommandWithImplicitDF": {
     "commandId": 8567775316091910,
     "dataframes": [
      "_sqldf"
     ]
    },
    "pythonIndentUnit": 4
   },
   "notebookName": "Test_Load_from_file",
   "widgets": {}
  },
  "language_info": {
   "name": "python"
  }
 },
 "nbformat": 4,
 "nbformat_minor": 0
}
