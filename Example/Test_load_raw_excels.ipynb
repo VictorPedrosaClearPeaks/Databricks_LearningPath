{
 "cells": [
  {
   "cell_type": "code",
   "execution_count": 0,
   "metadata": {
    "application/vnd.databricks.v1+cell": {
     "cellMetadata": {
      "byteLimit": 2048000,
      "implicitDf": true,
      "rowLimit": 10000
     },
     "inputWidgets": {},
     "nuid": "8a09d7c9-0f5e-4c20-ac44-ea445c86ad75",
     "showTitle": false,
     "tableResultSettingsMap": {},
     "title": ""
    }
   },
   "outputs": [],
   "source": [
    "%sql\n",
    "\n",
    "DROP TABLE IF EXISTS bronze_layer.brnz_task;\n",
    "\n",
    "CREATE TABLE IF NOT EXISTS bronze_layer.brnz_task AS\n",
    "SELECT AX.*, \n",
    "current_timestamp() AS created_at_ts, \n",
    "current_timestamp() AS modified_at_ts, \n",
    "'CSV' AS datasource, \n",
    "'task_full.csv' AS input_file_name\n",
    "FROM bronze_layer.task_full AX;\n",
    "\n",
    "SELECT * FROM bronze_layer.brnz_task;\n"
   ]
  },
  {
   "cell_type": "code",
   "execution_count": 0,
   "metadata": {
    "application/vnd.databricks.v1+cell": {
     "cellMetadata": {
      "byteLimit": 2048000,
      "implicitDf": true,
      "rowLimit": 10000
     },
     "inputWidgets": {},
     "nuid": "1d947b19-3b73-459e-8dcf-92791b62df9c",
     "showTitle": false,
     "tableResultSettingsMap": {},
     "title": ""
    }
   },
   "outputs": [],
   "source": [
    "%sql\n",
    "\n",
    "DROP TABLE IF EXISTS bronze_layer.brnz_task_sla;\n",
    "\n",
    "CREATE TABLE IF NOT EXISTS bronze_layer.brnz_task_sla AS\n",
    "SELECT AX.*, \n",
    "current_timestamp() AS created_at_ts, \n",
    "current_timestamp() AS modified_at_ts, \n",
    "'CSV' AS datasource, \n",
    "'task_sla_full_load.csv' AS input_file_name\n",
    "FROM bronze_layer.task_sla_full_load AX;\n",
    "\n",
    "SELECT * FROM bronze_layer.brnz_task_sla;"
   ]
  },
  {
   "cell_type": "code",
   "execution_count": 0,
   "metadata": {
    "application/vnd.databricks.v1+cell": {
     "cellMetadata": {
      "byteLimit": 2048000,
      "implicitDf": true,
      "rowLimit": 10000
     },
     "inputWidgets": {},
     "nuid": "884e00a2-1bd6-49b0-8089-0c546a664c9f",
     "showTitle": false,
     "tableResultSettingsMap": {},
     "title": ""
    }
   },
   "outputs": [],
   "source": [
    "%sql\n",
    "\n",
    "DROP TABLE IF EXISTS bronze_layer.brnz_csat;\n",
    "\n",
    "CREATE TABLE IF NOT EXISTS bronze_layer.brnz_csat AS\n",
    "SELECT AX.*, \n",
    "current_timestamp() AS created_at_ts, \n",
    "current_timestamp() AS modified_at_ts, \n",
    "'CSV' AS datasource, \n",
    "'task_full.csv' AS input_file_name\n",
    "FROM bronze_layer.csat_full_load AX;\n",
    "\n",
    "SELECT * FROM bronze_layer.brnz_csat;"
   ]
  },
  {
   "cell_type": "code",
   "execution_count": 0,
   "metadata": {
    "application/vnd.databricks.v1+cell": {
     "cellMetadata": {
      "byteLimit": 2048000,
      "implicitDf": true,
      "rowLimit": 10000
     },
     "inputWidgets": {},
     "nuid": "6b561b05-8fe6-4138-9872-6f7a9c138f59",
     "showTitle": false,
     "tableResultSettingsMap": {},
     "title": ""
    }
   },
   "outputs": [],
   "source": [
    "%sql\n",
    "\n",
    "DROP TABLE IF EXISTS bronze_layer.brnz_state_updates;\n",
    "\n",
    "CREATE TABLE IF NOT EXISTS bronze_layer.brnz_state_updates AS\n",
    "SELECT AX.*, \n",
    "current_timestamp() AS created_at_ts, \n",
    "current_timestamp() AS modified_at_ts, \n",
    "'CSV' AS datasource, \n",
    "'State Updates Full.csv' AS input_file_name\n",
    "FROM bronze_layer.state_updates_full AX;\n",
    "\n",
    "SELECT * FROM bronze_layer.brnz_state_updates;"
   ]
  }
 ],
 "metadata": {
  "application/vnd.databricks.v1+notebook": {
   "computePreferences": null,
   "dashboards": [],
   "environmentMetadata": {
    "base_environment": "",
    "client": "1"
   },
   "language": "python",
   "notebookMetadata": {
    "mostRecentlyExecutedCommandWithImplicitDF": {
     "commandId": 5723296591190518,
     "dataframes": [
      "_sqldf"
     ]
    },
    "pythonIndentUnit": 4
   },
   "notebookName": "Test_load_raw_excels",
   "widgets": {}
  },
  "language_info": {
   "name": "python"
  }
 },
 "nbformat": 4,
 "nbformat_minor": 0
}
