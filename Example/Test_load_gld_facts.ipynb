{
 "cells": [
  {
   "cell_type": "code",
   "execution_count": 0,
   "metadata": {
    "application/vnd.databricks.v1+cell": {
     "cellMetadata": {
      "byteLimit": 2048000,
      "implicitDf": true,
      "rowLimit": 10000
     },
     "inputWidgets": {},
     "nuid": "8a09d7c9-0f5e-4c20-ac44-ea445c86ad75",
     "showTitle": false,
     "tableResultSettingsMap": {},
     "title": ""
    }
   },
   "outputs": [],
   "source": [
    "%sql\n",
    "\n",
    "MERGE INTO gold_layer.gld_fact_request_stage target\n",
    "USING (\n",
    "SELECT \n",
    "integration_id,\n",
    "universal_request_pk, \n",
    "update_pk,\n",
    "stage_key,\n",
    "old_stage_key,\n",
    "update_time_ts,\n",
    "user_name,\n",
    "request_number, \n",
    "current_timestamp() AS created_at_ts, \n",
    "current_timestamp() AS modified_at_ts, \n",
    "'CSV' AS data_source\n",
    "FROM silver_layer.slvr_request_stage\n",
    ") source\n",
    "ON target.integration_id = source.integration_id\n",
    "\n",
    "WHEN MATCHED\n",
    "THEN UPDATE SET\n",
    "target.stage_key = source.stage_key,\n",
    "target.old_stage_key = source.old_stage_key,\n",
    "target.update_time_ts = source.update_time_ts,\n",
    "target.user_name = source.user_name,\n",
    "target.request_number = source.request_number,\n",
    "target.modified_at_ts = current_timestamp()\n",
    "\n",
    "WHEN NOT MATCHED\n",
    "THEN INSERT (\n",
    "integration_id,\n",
    "universal_request_pk, \n",
    "update_pk,\n",
    "stage_key,\n",
    "old_stage_key,\n",
    "update_time_ts,\n",
    "user_name,\n",
    "request_number,  \n",
    "created_at_ts,\n",
    "modified_at_ts,\n",
    "data_source)\n",
    "  VALUES(\n",
    "  source.integration_id,\n",
    "  source.universal_request_pk,\n",
    "  source.update_pk, \n",
    "  source.stage_key,\n",
    "  source.old_stage_key,\n",
    "  source.update_time_ts,\n",
    "  source.user_name,\n",
    "  source.request_number, \n",
    "  source.created_at_ts,\n",
    "  source.modified_at_ts,\n",
    "  source.data_source);\n",
    "\n",
    "SELECT * FROM gold_layer.gld_fact_request_stage;\n"
   ]
  },
  {
   "cell_type": "code",
   "execution_count": 0,
   "metadata": {
    "application/vnd.databricks.v1+cell": {
     "cellMetadata": {
      "byteLimit": 2048000,
      "implicitDf": true,
      "rowLimit": 10000
     },
     "inputWidgets": {},
     "nuid": "3fdafa5e-01f0-435a-a7f2-4832090650b1",
     "showTitle": false,
     "tableResultSettingsMap": {},
     "title": ""
    }
   },
   "outputs": [],
   "source": [
    "%sql\n",
    "MERGE INTO gold_layer.gld_fact_request_comment target\n",
    "USING (\n",
    "SELECT\n",
    "integration_id,\n",
    "universal_request_pk,\n",
    "request_comment_id,\n",
    "created_date_ts,\n",
    "owner,\n",
    "comment,\n",
    "current_timestamp() AS created_at_ts, \n",
    "current_timestamp() AS modified_at_ts, \n",
    "'CSV' AS data_source\n",
    "FROM silver_layer.slvr_request_comment \n",
    ") source\n",
    "ON target.integration_id = source.integration_id\n",
    "\n",
    "WHEN MATCHED\n",
    "THEN UPDATE SET\n",
    "target.created_date_ts = source.created_date_ts,\n",
    "target.owner = source.owner,\n",
    "target.comment = source.comment,\n",
    "target.modified_at_ts = current_timestamp()\n",
    "\n",
    "WHEN NOT MATCHED\n",
    "  THEN INSERT (integration_id,universal_request_pk, request_comment_id,created_date_ts,owner,comment, created_at_ts,modified_at_ts,data_source)\n",
    "  VALUES(\n",
    "  source.integration_id,\n",
    "  source.universal_request_pk, \n",
    "  source.request_comment_id,\n",
    "  source.created_date_ts,\n",
    "  source.owner,\n",
    "  source.comment, \n",
    "  source.created_at_ts,\n",
    "  source.modified_at_ts,\n",
    "  source.data_source);\n",
    "\n",
    "SELECT * FROM gold_layer.gld_fact_request_comment;"
   ]
  },
  {
   "cell_type": "code",
   "execution_count": 0,
   "metadata": {
    "application/vnd.databricks.v1+cell": {
     "cellMetadata": {
      "byteLimit": 2048000,
      "implicitDf": true,
      "rowLimit": 10000
     },
     "inputWidgets": {},
     "nuid": "f6e6f9a6-42c3-45f5-b1af-fa5c94494b53",
     "showTitle": false,
     "tableResultSettingsMap": {},
     "title": ""
    }
   },
   "outputs": [],
   "source": [
    "%sql\n",
    "\n",
    "MERGE INTO gold_layer.gld_fact_service_request target \n",
    "USING (\n",
    "SELECT\n",
    "integration_id,\n",
    "universal_request_pk,\n",
    "created_date_ts,\n",
    "entity_key,\n",
    "vertical_key,\n",
    "service_key,\n",
    "current_timestamp() AS created_at_ts, \n",
    "current_timestamp() AS modified_at_ts, \n",
    "'CSV' AS data_source\n",
    "FROM silver_layer.slvr_fact_service_request\n",
    ") source\n",
    "ON target.integration_id = source.integration_id\n",
    "\n",
    "WHEN MATCHED\n",
    "THEN UPDATE SET\n",
    "target.created_date_ts = source.created_date_ts,\n",
    "target.entity_key = source.entity_key,\n",
    "target.vertical_key = source.vertical_key,\n",
    "target.service_key = source.service_key,\n",
    "target.modified_at_ts = current_timestamp()\n",
    "\n",
    "WHEN NOT MATCHED\n",
    "THEN INSERT (\n",
    "integration_id,\n",
    "universal_request_pk,\n",
    "created_date_ts,\n",
    "entity_key,\n",
    "vertical_key,\n",
    "service_key,\n",
    "created_at_ts,\n",
    "modified_at_ts,\n",
    "data_source\n",
    ")\n",
    "VALUES(\n",
    "source.integration_id,\n",
    "source.universal_request_pk,\n",
    "source.created_date_ts,\n",
    "source.entity_key,\n",
    "source.vertical_key,\n",
    "source.service_key,\n",
    "source.created_at_ts,\n",
    "source.modified_at_ts,\n",
    "source.data_source);\n",
    "\n",
    "SELECT * FROM gold_layer.gld_fact_service_request;"
   ]
  }
 ],
 "metadata": {
  "application/vnd.databricks.v1+notebook": {
   "computePreferences": null,
   "dashboards": [],
   "environmentMetadata": {
    "base_environment": "",
    "client": "1"
   },
   "language": "python",
   "notebookMetadata": {
    "mostRecentlyExecutedCommandWithImplicitDF": {
     "commandId": 2510107941898790,
     "dataframes": [
      "_sqldf"
     ]
    },
    "pythonIndentUnit": 4
   },
   "notebookName": "Test_load_gld_facts",
   "widgets": {}
  },
  "language_info": {
   "name": "python"
  }
 },
 "nbformat": 4,
 "nbformat_minor": 0
}
